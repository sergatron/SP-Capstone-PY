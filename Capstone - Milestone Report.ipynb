{
 "cells": [
  {
   "cell_type": "markdown",
   "metadata": {},
   "source": [
    "# Photovoltaic Installations"
   ]
  },
  {
   "cell_type": "markdown",
   "metadata": {},
   "source": [
    "### Problem\n",
    "Solar energy is underutilized and perhaps misunderstood by the general public in the United States despite the technological advancement and a dramatic reduction in installation prices. It can provide us with clean and stable production of energy should we choose to embrace its pursuit. To enable greater understanding of solar energy's potential, we can use data to predict cost and energy production of photovoltaic installations. However, the cost and sizing can be a great deterrence for most potential clients; therefore, they should be appropriately educated before making this important decision. "
   ]
  },
  {
   "cell_type": "markdown",
   "metadata": {},
   "source": [
    "### Clients\n",
    "The client can be a homeowner or a small business owner trying to decide whether photovoltaic installation is a feasible choice at their location. They want to estimate the capacity of the array for their needs as well as the cost and rebates.\n"
   ]
  },
  {
   "cell_type": "markdown",
   "metadata": {},
   "source": [
    "### Dataset\n",
    "\n"
   ]
  },
  {
   "cell_type": "code",
   "execution_count": 7,
   "metadata": {
    "collapsed": true
   },
   "outputs": [],
   "source": [
    "import pandas as pd\n",
    "pv = pd.read_csv('Capstone/openpv_all.csv', sep=',', low_memory=False)"
   ]
  },
  {
   "cell_type": "code",
   "execution_count": 13,
   "metadata": {
    "scrolled": true
   },
   "outputs": [
    {
     "name": "stdout",
     "output_type": "stream",
     "text": [
      "<class 'pandas.core.frame.DataFrame'>\n",
      "RangeIndex: 1020583 entries, 0 to 1020582\n",
      "Data columns (total 81 columns):\n",
      "state                          1020583 non-null object\n",
      "date_installed                 1020578 non-null object\n",
      "incentive_prog_names           797958 non-null object\n",
      "type                           1020578 non-null object\n",
      "size_kw                        1020578 non-null float64\n",
      "appraised                      224036 non-null object\n",
      "zipcode                        1020578 non-null float64\n",
      "install_type                   978002 non-null object\n",
      "installer                      702521 non-null object\n",
      "cost_per_watt                  763002 non-null float64\n",
      "cost                           999030 non-null object\n",
      "lbnl_tts_version_year          797958 non-null float64\n",
      "lbnl_tts                       797958 non-null object\n",
      "city                           799016 non-null object\n",
      "utility_clean                  792720 non-null object\n",
      "tech_1                         580919 non-null object\n",
      "model1_clean                   580919 non-null object\n",
      "county                         998652 non-null object\n",
      "annual_PV_prod                 780969 non-null float64\n",
      "annual_insolation              780969 non-null float64\n",
      "rebate                         386729 non-null object\n",
      "sales_tax_cost                 355309 non-null float64\n",
      "tilt1                          383365 non-null float64\n",
      "tracking_type                  526058 non-null object\n",
      "azimuth1                       363281 non-null float64\n",
      "manuf2_clean                   231607 non-null object\n",
      "manuf3_clean                   209653 non-null object\n",
      "manuf1_clean                   201121 non-null object\n",
      "inv_man_clean                  49933 non-null object\n",
      "reported_annual_energy_prod    204429 non-null float64\n",
      "incentivetype                  0 non-null float64\n",
      "year_app_implied               0 non-null float64\n",
      "year                           68 non-null object\n",
      "npv_fit_real                   0 non-null float64\n",
      "application_implied            0 non-null float64\n",
      "npv_pbi_real                   0 non-null float64\n",
      "other_incentive                0 non-null float64\n",
      "appraised_cluster              0 non-null float64\n",
      "inflation                      0 non-null float64\n",
      "other_incentive_real           0 non-null float64\n",
      "zip_available                  0 non-null float64\n",
      "cust_city                      0 non-null float64\n",
      "pbi                            0 non-null float64\n",
      "pbi_real                       0 non-null float64\n",
      "pbi_length                     5427 non-null float64\n",
      "application                    0 non-null float64\n",
      "fit_length                     0 non-null float64\n",
      "fit_rate                       0 non-null float64\n",
      "fit_payment                    0 non-null float64\n",
      "_3rdparty_implied              0 non-null float64\n",
      "utility                        2117 non-null object\n",
      "install_price_real_w           0 non-null float64\n",
      "install_price                  0 non-null float64\n",
      "installer_clean                0 non-null float64\n",
      "manuf1_                        0 non-null float64\n",
      "inverter_reported              0 non-null float64\n",
      "rebate_real                    0 non-null float64\n",
      "model1                         0 non-null float64\n",
      "_3rdparty                      0 non-null float64\n",
      "inv_model_reported             0 non-null float64\n",
      "microinv_solarhub              0 non-null float64\n",
      "bipv_3                         5255 non-null float64\n",
      "bipv_2                         5255 non-null float64\n",
      "bipv_1                         5255 non-null float64\n",
      "sales_tax_rate                 0 non-null float64\n",
      "sales_tax_cost_real            0 non-null float64\n",
      "bipv_all                       0 non-null float64\n",
      "thinfilm_all                   0 non-null float64\n",
      "china                          0 non-null float64\n",
      "sys_sizeac                     0 non-null float64\n",
      "pbi_rate                       0 non-null float64\n",
      "new_constr                     27106 non-null float64\n",
      "effic_1                        0 non-null float64\n",
      "cust_county                    0 non-null float64\n",
      "tracking                       1930 non-null float64\n",
      "inv_model_clean                0 non-null float64\n",
      "mod_cost_real                  0 non-null float64\n",
      "inv_cost_real                  0 non-null float64\n",
      "bos_powerclerk_real            0 non-null float64\n",
      "permitting_real                0 non-null float64\n",
      "3rdparty                       306993 non-null float64\n",
      "dtypes: float64(59), object(22)\n",
      "memory usage: 630.7+ MB\n",
      "None\n"
     ]
    }
   ],
   "source": [
    "print(pv.info())\n"
   ]
  },
  {
   "cell_type": "markdown",
   "metadata": {},
   "source": [
    "This dataset contains solar array installations across the United States between the years 1998 and January 2018. For each location, we have the installation's associated cost, state rebate amount, capacity, local annual insolation/radiation, annual power output (estimate), and the reported power output. "
   ]
  },
  {
   "cell_type": "markdown",
   "metadata": {},
   "source": [
    "### Data Wrangling/Cleaning\n",
    "\n",
    "The original data contained over 1 millions rows, it had entire columns with missing values and columns with very little data. After dropping columns, some of the data types appeared to be incorrect. Numerical columns such as cost and rebate were in fact strings because they contained symbols like the dollar sign, leading/trailing spaces, and commas. Various symbols had to be found and removed before converting data types then all strings were converted to lower case for consistency. Other inconsistencies were found within the city names. For example, the city name column contained two versions of *'st. louis'* where the period was missing in some cases. As a result, the period was stripped all together to maintain consistency for all cities. Other minor spelling errors were found in the *install type* column and corrected. \n",
    "\n",
    "A number of APIs were used to add or correct information to the original dataset. For example, the column for incentive program names and solar radiation contained missing values which were filled in using the National Renewable Energy Laboratory (NREL) API. A column for city population was also added through the use of an API which contained 1000 largest cities in the US. The dataset was then filtered to contain only those 1,000 largest cities with population ranging from about 36,000 to abbout 8 million.\n"
   ]
  },
  {
   "cell_type": "code",
   "execution_count": null,
   "metadata": {
    "collapsed": true
   },
   "outputs": [],
   "source": []
  },
  {
   "cell_type": "markdown",
   "metadata": {},
   "source": [
    "### Initial Findings\n",
    "\n",
    "The exploratory data analysis mostly focused on the following questions:\n",
    "\n",
    "1. Which states have the cheapest and most expensive installations; which states have highest incentives? \n",
    "\n",
    "2. How have the prices changed over the years?\n",
    "\n",
    "3. Which factors contribute the most to the total cost? \n",
    "\n",
    "\n",
    "It is worth mentioning that the state of California had more rows than all other states combined. Although there is some bias towards a single state there is still enough information contained within the data for other states to have a meaningful analysis. In addition, it was found that most of the installations types were residential.\n",
    "\n",
    "\n",
    "**Which states have the cheapest and most expensive installations; which states have highest incentives?**\n",
    "\n",
    "Over the past 20 years, on average, the most expensive installation costs were in New Jersey(`$`49,282.18), Florida(`$`34,231.69), and Pennsylvania (`$`33,941.69), respectively. The highest rebates were achieved by New Jersey(`$`18,322.60), Florida(`$`15,437.61), and Connecticut(`$`11,637.82). The cheapest installation costs were in Michigan(`$`8,000), Illinois(`$`13,000), and Indiana(`$`16,453.15). Also, it's important to note that these figures encompass the past 20 years and are not representative of the most recent figures. \n",
    "\n",
    "\n",
    "\n",
    "**How have the prices changed over the years?**\n",
    "\n",
    "Installation costs peaked between years 2008 and 2009 and have been declining since that time. To be more precise, installation costs have declined about 51% since 2008. It is also important to note that the *cost per watt* has actually been declining since 1998 with a change of 77%. During the period of 1998 to 2018 the number of installations and number of rebates has increased dramatically due to the change in costs and advancements in photovoltaic technology. These developments have created more favorable conditions for the consumer to switch to solar power. \n",
    "\n",
    "\n",
    "**Which factors contribute the most to the total cost?**\n",
    "\n",
    "It is no surprise to find that a large capacity system (10kW) would cost more than a relatively small capacity (3kW). The capacity of the system is one of the major contributors to the installation cost. However, since insolation rates vary depending on geographic location, a system of same capacity (ex. 5kW) will not produce the same amount of energy around the country. So, dependning on how much energy a home consumes annually, the system capacity will be sized accordingly. Thus the cost will also depend on the amount of energy a home consumes throughout the year.    \n",
    "\n"
   ]
  },
  {
   "cell_type": "code",
   "execution_count": null,
   "metadata": {
    "collapsed": true
   },
   "outputs": [],
   "source": []
  }
 ],
 "metadata": {
  "kernelspec": {
   "display_name": "Python 3",
   "language": "python",
   "name": "python3"
  },
  "language_info": {
   "codemirror_mode": {
    "name": "ipython",
    "version": 3
   },
   "file_extension": ".py",
   "mimetype": "text/x-python",
   "name": "python",
   "nbconvert_exporter": "python",
   "pygments_lexer": "ipython3",
   "version": "3.6.2"
  }
 },
 "nbformat": 4,
 "nbformat_minor": 2
}
