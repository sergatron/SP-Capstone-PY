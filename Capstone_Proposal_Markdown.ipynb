{
 "cells": [
  {
   "cell_type": "markdown",
   "metadata": {},
   "source": [
    "# Analyzing Photovoltaic Installations Data to Predict Cost \n",
    "\n",
    "#### Problem\n",
    "Solar energy is underutilized and perhaps misunderstood by the general public in the United States. It can provide us with clean and stable production of energy should we choose to embrace its pursuit. To enable greater understanding of solar energy's potential, we can use data to predict cost and energy production of photovoltaic installations. However, the cost and sizing can be a great deterrence for most potential clients; therefore, they should be appropriately educated before making this important decision. \n",
    "\n",
    "\n",
    "#### Clients\n",
    "The client can be a homeowner or a small business owner trying to decide whether photovoltaic installation is a feasible choice at their location. They want to estimate how much it will cost in the present moment and in the near future. \n",
    "\n",
    "\n",
    "#### Data \n",
    "This data set was downloaded from https://openpv.nrel.gov/search. It includes grid-connected residential and non-residential, rooftop and ground-mounted installations.\n",
    "\n",
    "#### Approach\n",
    "Data manipulation and cleaning will be the first necessary steps in this analysis. The data set contains many variables but the goal is to focus on a specific set of *predictors* in order to create an accurate prediction of the cost. To accomplish this, the data set must be free of missing, invalid, or corrupt values. Not all variables will be used so it is wise to extract the necessary predictors. \n",
    "\n",
    "Further, we can focus on specific questions to be answered:\n",
    "\n",
    "1. Which states have the cheapest and most expensive installations; which states have highest incentives? \n",
    "\n",
    "2. How have the prices changed over the years?\n",
    "\n",
    "3. Which factors contribute the most to the total cost? \n",
    "\n",
    "4. Predict the total cost before any incentives given the size of an installation.\n",
    "\n",
    "After performing neccessary data wranling operations, answering questions will require the use of exploratory data analysis and machine learning techniques. \n",
    "\n",
    "#### Deliverables\n",
    "The deliverables will include a full report along with well documented code and a presentation. "
   ]
  },
  {
   "cell_type": "code",
   "execution_count": null,
   "metadata": {
    "collapsed": true
   },
   "outputs": [],
   "source": []
  }
 ],
 "metadata": {
  "kernelspec": {
   "display_name": "Python 3",
   "language": "python",
   "name": "python3"
  },
  "language_info": {
   "codemirror_mode": {
    "name": "ipython",
    "version": 3
   },
   "file_extension": ".py",
   "mimetype": "text/x-python",
   "name": "python",
   "nbconvert_exporter": "python",
   "pygments_lexer": "ipython3",
   "version": "3.6.2"
  }
 },
 "nbformat": 4,
 "nbformat_minor": 2
}
